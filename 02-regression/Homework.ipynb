{
 "cells": [
  {
   "cell_type": "code",
   "execution_count": null,
   "id": "70c04b51-a301-43e6-9c54-1571b660abc2",
   "metadata": {},
   "outputs": [],
   "source": []
  }
 ],
 "metadata": {
  "kernelspec": {
   "display_name": "",
   "name": ""
  },
  "language_info": {
   "name": ""
  }
 },
 "nbformat": 4,
 "nbformat_minor": 5
}
